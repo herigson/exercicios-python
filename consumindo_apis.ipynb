{
  "nbformat": 4,
  "nbformat_minor": 0,
  "metadata": {
    "colab": {
      "name": "Untitled1.ipynb",
      "provenance": [],
      "collapsed_sections": [],
      "authorship_tag": "ABX9TyPisvJDPfVaNbHy37/c5aVI",
      "include_colab_link": true
    },
    "kernelspec": {
      "name": "python3",
      "display_name": "Python 3"
    },
    "language_info": {
      "name": "python"
    }
  },
  "cells": [
    {
      "cell_type": "markdown",
      "metadata": {
        "id": "view-in-github",
        "colab_type": "text"
      },
      "source": [
        "<a href=\"https://colab.research.google.com/github/herigson/exercicios-python/blob/main/consumindo_apis.ipynb\" target=\"_parent\"><img src=\"https://colab.research.google.com/assets/colab-badge.svg\" alt=\"Open In Colab\"/></a>"
      ]
    },
    {
      "cell_type": "markdown",
      "source": [
        "**1)** Modifique o seguinte código para retornar a resposta da requisição \"GET\" em formato XML:\n"
      ],
      "metadata": {
        "id": "4p3Jw9Lq8eUM"
      }
    },
    {
      "cell_type": "code",
      "source": [
        "import requests\n",
        "\n",
        "url = 'https://viacep.com.br/ws/'\n",
        "zipCodes = '30140071'\n",
        "format = '/xml/'\n",
        "\n",
        "response = requests.get(url + str(zipCode) + format)\n",
        "if response.status_code == 200 :\n",
        "  print()\n",
        "  print( response.content)"
      ],
      "metadata": {
        "colab": {
          "base_uri": "https://localhost:8080/"
        },
        "id": "FhtDVoHX8fjS",
        "outputId": "c19868cf-bfa2-4c34-d986-ed050f76da95"
      },
      "execution_count": null,
      "outputs": [
        {
          "output_type": "stream",
          "name": "stdout",
          "text": [
            "\n",
            "b'<?xml version=\"1.0\" encoding=\"UTF-8\"?>\\n<xmlcep>\\n  <cep>30140-075</cep>\\n  <logradouro>Rua dos Aimor\\xc3\\xa9s</logradouro>\\n  <complemento>de 531/532 a 969/970</complemento>\\n  <bairro>Funcion\\xc3\\xa1rios</bairro>\\n  <localidade>Belo Horizonte</localidade>\\n  <uf>MG</uf>\\n  <ibge>3106200</ibge>\\n  <gia></gia>\\n  <ddd>31</ddd>\\n  <siafi>4123</siafi>\\n</xmlcep>\\n'\n"
          ]
        }
      ]
    },
    {
      "cell_type": "markdown",
      "source": [
        ""
      ],
      "metadata": {
        "id": "Us9da05O9vvn"
      }
    },
    {
      "cell_type": "markdown",
      "source": [
        "**2)** Modifique o código anterior para que, usando uma estrutura de repetição, consulte 5 CEPs\n",
        "sequenciais.\n",
        "Suponha que o CEP da sua casa seja 30140-071, o código Python deverá enviar 5 requisições \n",
        "com os seguintes CEPs:\n",
        "30140071, 30140072, 30140073, 30140074 e 30140075\n",
        "O resultado deve ser exibido na tela"
      ],
      "metadata": {
        "id": "kke4DXZJ8hL1"
      }
    },
    {
      "cell_type": "code",
      "source": [
        "import requests\n",
        "\n",
        "url = 'https://viacep.com.br/ws/'\n",
        "zipCodes = ['30140071', '30140072', '30140073','30140074','30140075']\n",
        "format = '/json/'\n",
        "\n",
        "for zipCode in zipCodes:\n",
        " response = requests.get(url + str(zipCode) + format)\n",
        " if response.status_code == 200 :\n",
        "   print()\n",
        "   print('JSON: ', response.json())\n",
        " else:\n",
        "  print('Não houve sucesso na requisição.', response.status_code)"
      ],
      "metadata": {
        "colab": {
          "base_uri": "https://localhost:8080/"
        },
        "id": "zu3QTuyf85eK",
        "outputId": "6afc2edd-119a-448a-9bfe-e29a629fb23e"
      },
      "execution_count": null,
      "outputs": [
        {
          "output_type": "stream",
          "name": "stdout",
          "text": [
            "\n",
            "JSON:  {'cep': '30140-071', 'logradouro': 'Rua dos Aimorés', 'complemento': 'de 971/972 a 1399/1400', 'bairro': 'Boa Viagem', 'localidade': 'Belo Horizonte', 'uf': 'MG', 'ibge': '3106200', 'gia': '', 'ddd': '31', 'siafi': '4123'}\n",
            "\n",
            "JSON:  {'cep': '30140-072', 'logradouro': 'Rua dos Aimorés', 'complemento': 'de 1401/1402 a 1799/1800', 'bairro': 'Lourdes', 'localidade': 'Belo Horizonte', 'uf': 'MG', 'ibge': '3106200', 'gia': '', 'ddd': '31', 'siafi': '4123'}\n",
            "\n",
            "JSON:  {'cep': '30140-073', 'logradouro': 'Rua dos Aimorés', 'complemento': 'de 2761/2762 a 3299/3300', 'bairro': 'Barro Preto', 'localidade': 'Belo Horizonte', 'uf': 'MG', 'ibge': '3106200', 'gia': '', 'ddd': '31', 'siafi': '4123'}\n",
            "\n",
            "JSON:  {'cep': '30140-074', 'logradouro': 'Rua dos Aimorés', 'complemento': 'de 1801/1802 a 2369/2370', 'bairro': 'Lourdes', 'localidade': 'Belo Horizonte', 'uf': 'MG', 'ibge': '3106200', 'gia': '', 'ddd': '31', 'siafi': '4123'}\n",
            "\n",
            "JSON:  {'cep': '30140-075', 'logradouro': 'Rua dos Aimorés', 'complemento': 'de 531/532 a 969/970', 'bairro': 'Funcionários', 'localidade': 'Belo Horizonte', 'uf': 'MG', 'ibge': '3106200', 'gia': '', 'ddd': '31', 'siafi': '4123'}\n"
          ]
        }
      ]
    },
    {
      "cell_type": "markdown",
      "source": [
        "3) Modifique o código para que a consulta seja feita com um endereço (nome de rua), ao invés \n",
        "do CEP.\n",
        "Veja a URL de exemplo:\n",
        "viacep.com.br/ws/MG/Belo Horizonte/Rua dos Aimores/json/"
      ],
      "metadata": {
        "id": "Fm9kwqnB92Z7"
      }
    },
    {
      "cell_type": "code",
      "source": [
        "import requests\n",
        "\n",
        "url = 'https://viacep.com.br/ws/'\n",
        "state = '/MG'\n",
        "city = '/Belo Horizonte'\n",
        "street = '/Rua dos Aimorés'\n",
        "format = '/json/'\n",
        "\n",
        "response = requests.get(url + state + city + street + format)\n",
        "print(response.status_code)\n",
        "if response.status_code == 200 :\n",
        "  print( response.json())"
      ],
      "metadata": {
        "colab": {
          "base_uri": "https://localhost:8080/"
        },
        "id": "Lmx6MFOV94Ds",
        "outputId": "2c697863-ca81-4199-e70c-40304797d47a"
      },
      "execution_count": null,
      "outputs": [
        {
          "output_type": "stream",
          "name": "stdout",
          "text": [
            "200\n",
            "[{'cep': '30140-073', 'logradouro': 'Rua dos Aimorés', 'complemento': 'de 2761/2762 a 3299/3300', 'bairro': 'Barro Preto', 'localidade': 'Belo Horizonte', 'uf': 'MG', 'ibge': '3106200', 'gia': '', 'ddd': '31', 'siafi': '4123'}, {'cep': '30140-920', 'logradouro': 'Rua dos Aimorés', 'complemento': '66', 'bairro': 'Funcionários', 'localidade': 'Belo Horizonte', 'uf': 'MG', 'ibge': '3106200', 'gia': '', 'ddd': '31', 'siafi': '4123'}, {'cep': '30140-076', 'logradouro': 'Rua dos Aimorés', 'complemento': 'de 2371/2372 a 2759/2760', 'bairro': 'Santo Agostinho', 'localidade': 'Belo Horizonte', 'uf': 'MG', 'ibge': '3106200', 'gia': '', 'ddd': '31', 'siafi': '4123'}, {'cep': '30140-078', 'logradouro': 'Rua dos Aimorés', 'complemento': 'de 3301/3302 ao fim', 'bairro': 'Barro Preto', 'localidade': 'Belo Horizonte', 'uf': 'MG', 'ibge': '3106200', 'gia': '', 'ddd': '31', 'siafi': '4123'}, {'cep': '30140-075', 'logradouro': 'Rua dos Aimorés', 'complemento': 'de 531/532 a 969/970', 'bairro': 'Funcionários', 'localidade': 'Belo Horizonte', 'uf': 'MG', 'ibge': '3106200', 'gia': '', 'ddd': '31', 'siafi': '4123'}, {'cep': '30140-071', 'logradouro': 'Rua dos Aimorés', 'complemento': 'de 971/972 a 1399/1400', 'bairro': 'Boa Viagem', 'localidade': 'Belo Horizonte', 'uf': 'MG', 'ibge': '3106200', 'gia': '', 'ddd': '31', 'siafi': '4123'}, {'cep': '30140-070', 'logradouro': 'Rua dos Aimorés', 'complemento': 'até 529/530', 'bairro': 'Funcionários', 'localidade': 'Belo Horizonte', 'uf': 'MG', 'ibge': '3106200', 'gia': '', 'ddd': '31', 'siafi': '4123'}, {'cep': '30140-072', 'logradouro': 'Rua dos Aimorés', 'complemento': 'de 1401/1402 a 1799/1800', 'bairro': 'Lourdes', 'localidade': 'Belo Horizonte', 'uf': 'MG', 'ibge': '3106200', 'gia': '', 'ddd': '31', 'siafi': '4123'}, {'cep': '30140-904', 'logradouro': 'Rua dos Aimorés', 'complemento': '462', 'bairro': 'Funcionários', 'localidade': 'Belo Horizonte', 'uf': 'MG', 'ibge': '3106200', 'gia': '', 'ddd': '31', 'siafi': '4123'}, {'cep': '30140-074', 'logradouro': 'Rua dos Aimorés', 'complemento': 'de 1801/1802 a 2369/2370', 'bairro': 'Lourdes', 'localidade': 'Belo Horizonte', 'uf': 'MG', 'ibge': '3106200', 'gia': '', 'ddd': '31', 'siafi': '4123'}]\n"
          ]
        }
      ]
    },
    {
      "cell_type": "markdown",
      "source": [
        "**4)** Modifique o primeiro código de tal forma que o endereço \" https://viacep.com.br/abc/\" \n",
        "tente ser acessado. Exiba o código de retorno e o texto."
      ],
      "metadata": {
        "id": "4fz8IIlFj1Zc"
      }
    },
    {
      "cell_type": "code",
      "source": [
        "import requests\n",
        "\n",
        "url = 'https://viacep.com.br/abc/'\n",
        "zipCode = '30140071'\n",
        "format = '/xml/'\n",
        "\n",
        "response = requests.get(url + str(zipCode) + format)\n",
        "if response.status_code == 200 :\n",
        "  print()\n",
        "  print( response.content)\n",
        "else:\n",
        "  print('Erro na requisição - Código: ', response.status_code)\n",
        "  print(response.text)"
      ],
      "metadata": {
        "colab": {
          "base_uri": "https://localhost:8080/"
        },
        "id": "TtifoVRgkIO0",
        "outputId": "df3d83d9-0131-44be-e18a-04c1b1011248"
      },
      "execution_count": null,
      "outputs": [
        {
          "output_type": "stream",
          "name": "stdout",
          "text": [
            "Erro na requisição - Código:  404\n",
            "<!DOCTYPE HTML>\n",
            "<html lang=\"pt-br\">\n",
            "<head>\n",
            "<title>ViaCEP 404</title>\n",
            "<meta charset=\"utf-8\"/>\n",
            "<style type=\"text/css\">h1{color:#666;text-align:center;font-size:4em}h2,h3{color:#777;text-align:center;font-size:3em}h3{font-size:1.5em}</style>\n",
            "</head>\n",
            "<body>\n",
            "<h1>Erro 404</h1>\n",
            "<h2>Ops!</h2>\n",
            "<h3>A página que você procura não foi encontrada.</h3>\n",
            "</body>\n",
            "</html>\n",
            "\n"
          ]
        }
      ]
    },
    {
      "cell_type": "markdown",
      "source": [
        "5) Observe o código abaixo:\n",
        "\n",
        "```\n",
        "import requests\n",
        "r = requests.get('http://www.google.com/search', params={'q': \n",
        "'Protocolo HTTP'})\n",
        "if (r.status_code == 200):\n",
        " print()\n",
        " print('Retorno : ', r.text)\n",
        " print()\n",
        "else:\n",
        " print('Nao houve sucesso na requisicao.')\n",
        "\n",
        "```\n",
        "\n",
        "Modifique-o para que os resultados sejam salvos em arquivo."
      ],
      "metadata": {
        "id": "m5s4zY0SlstA"
      }
    },
    {
      "cell_type": "code",
      "source": [
        "import requests\n",
        "import os\n",
        "import codecs\n",
        "from google.colab import files\n",
        "\n",
        "\n",
        "def write_file(writepath,content):\n",
        "    #Deletando arquivo existente caso exista /Este bloco não é necessário no collab pois salvamos e manipulamos o arquivo diretamente sem persitir em algum disco.\n",
        "    #if os.path.exists(writepath):\n",
        "        #os.remove(writepath)\n",
        "    mode = 'w'\n",
        "    with codecs.open(writepath, mode, \"utf-8\") as f:\n",
        "        f.write(content)\n",
        "\n",
        "\n",
        "payload = {'q': 'Protocolo HTTP', 'lr': 'lang_pt'}\n",
        "r = requests.get('http://www.google.com.br/search', params=payload)\n",
        "if (r.status_code == 200):\n",
        "    filename = 'teste.html'\n",
        "    write_file(filename,r.text)\n",
        "    print('Requisição bem sucedida, efetuando download do arquivo..')\n",
        "    files.download(filename)\n",
        "\n",
        "else:\n",
        "    print('Nao houve sucesso na requisicao.')\n"
      ],
      "metadata": {
        "colab": {
          "base_uri": "https://localhost:8080/",
          "height": 34
        },
        "id": "fFXFHMeCmI3f",
        "outputId": "0bc924f8-9e9b-4f5d-97d6-9461669753ef"
      },
      "execution_count": 2,
      "outputs": [
        {
          "output_type": "stream",
          "name": "stdout",
          "text": [
            "Requisição bem sucedida, efetuando download do arquivo..\n"
          ]
        },
        {
          "output_type": "display_data",
          "data": {
            "text/plain": [
              "<IPython.core.display.Javascript object>"
            ],
            "application/javascript": [
              "\n",
              "    async function download(id, filename, size) {\n",
              "      if (!google.colab.kernel.accessAllowed) {\n",
              "        return;\n",
              "      }\n",
              "      const div = document.createElement('div');\n",
              "      const label = document.createElement('label');\n",
              "      label.textContent = `Downloading \"${filename}\": `;\n",
              "      div.appendChild(label);\n",
              "      const progress = document.createElement('progress');\n",
              "      progress.max = size;\n",
              "      div.appendChild(progress);\n",
              "      document.body.appendChild(div);\n",
              "\n",
              "      const buffers = [];\n",
              "      let downloaded = 0;\n",
              "\n",
              "      const channel = await google.colab.kernel.comms.open(id);\n",
              "      // Send a message to notify the kernel that we're ready.\n",
              "      channel.send({})\n",
              "\n",
              "      for await (const message of channel.messages) {\n",
              "        // Send a message to notify the kernel that we're ready.\n",
              "        channel.send({})\n",
              "        if (message.buffers) {\n",
              "          for (const buffer of message.buffers) {\n",
              "            buffers.push(buffer);\n",
              "            downloaded += buffer.byteLength;\n",
              "            progress.value = downloaded;\n",
              "          }\n",
              "        }\n",
              "      }\n",
              "      const blob = new Blob(buffers, {type: 'application/binary'});\n",
              "      const a = document.createElement('a');\n",
              "      a.href = window.URL.createObjectURL(blob);\n",
              "      a.download = filename;\n",
              "      div.appendChild(a);\n",
              "      a.click();\n",
              "      div.remove();\n",
              "    }\n",
              "  "
            ]
          },
          "metadata": {}
        },
        {
          "output_type": "display_data",
          "data": {
            "text/plain": [
              "<IPython.core.display.Javascript object>"
            ],
            "application/javascript": [
              "download(\"download_d1efa71b-e026-4d97-81fd-c9e9c8d17b8a\", \"teste.html\", 88131)"
            ]
          },
          "metadata": {}
        }
      ]
    }
  ]
}